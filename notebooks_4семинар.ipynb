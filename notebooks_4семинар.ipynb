{
  "metadata": {
    "language_info": {
      "name": ""
    },
    "kernelspec": {
      "name": "python",
      "display_name": "Python (Pyodide)",
      "language": "python"
    }
  },
  "nbformat_minor": 4,
  "nbformat": 4,
  "cells": [
    {
      "cell_type": "code",
      "source": "#4 СЕМИНАР \n#1) С помощью цикла for сравнить две произвольные строки и вывести строку, состоящую из общих символов исходных строк.\na = input()\nb = input()\nh=[]\nfor i in range(len(a)):\n    if a[i] in b:\n        h.append(a[i])\nprint(\"\".join(h))",
      "metadata": {},
      "execution_count": null,
      "outputs": []
    },
    {
      "cell_type": "code",
      "source": "#2) С помощью цикла while рассчитать двойной факториал для произвольного числа. Двойной факториал n!! числа n рассчитывается как произведение всех чисел, меньших исходного на числа, кратные двум (но это не точно, надо с шагом 2) (вплоть до 1 или 2). Например: 7!! = 7 * 5 * 3 * 1 = 105\na = int(input())\nb = 1\nwhile a > 0:\n    b*=a\n    a-=2\nprint(b)",
      "metadata": {},
      "execution_count": null,
      "outputs": []
    },
    {
      "cell_type": "code",
      "source": "3) Решить предыдущую задачу с помощью цикла for.\na = int(input())\nb = 1\nfor i in range(1, a+1, 2):\n    b *= i\nprint(b)",
      "metadata": {},
      "execution_count": null,
      "outputs": []
    },
    {
      "cell_type": "code",
      "source": "#4) Вывести все простые числа в произвольном интервале [a, b], используя вложенные for и конструкцию for-else.\na = int(input())\nb = int(input())\nfor i in range(a, b + 1):\n    k = 0\n    for t in range(2, i):\n        if i % t == 0:\n            k += 1\n    if k == 0:\n        print(i)\n    else:\n        continue",
      "metadata": {},
      "execution_count": null,
      "outputs": []
    },
    {
      "cell_type": "code",
      "source": "#5) Реализовать проверку на ввод вводимого пользователем значения: предлагать ввод до тех пор, пока не будет введена непустая строка. Если введено STOP, выводить сообщение \"Program interrupted by user\". Если введенная строка в лексиграфическом порядке стоит перед строчными латинскими символами, выводить предупреждение \"Too early in the dictionary. Try again!\" и предлагать ввод снова. Иначе выводить отформатированную исходную строку с заполнителем \"_\" и шириной 30 символов с выравниванием посередине.\nwhile True:\n    user_input = input(\"Введите строку: \")\n    if user_input == \"STOP\":\n        print(\"Program interrupted by user\")\n        break\n    if not user_input:\n        continue\n    if user_input < 'a':\n        print(\"Too early in the dictionary. Try again!\")\n        continue\n    formatted_string = \"{:^30}\".format(user_input)\n    print(formatted_string)\n    break",
      "metadata": {},
      "execution_count": null,
      "outputs": []
    },
    {
      "cell_type": "code",
      "source": "#6) Для произвольной строки вывести те символы, номера которых в строке (не индексы!) делят длину строки без остатка. Для строки \"Hello world!\" должно выводиться \"Hell !\".\na = input(\"Введите строку:\")\nfor i in range(1,len(a)+1):\n    if len(a) % i == 0:\n        print(a[i-1], end = \"\")",
      "metadata": {},
      "execution_count": null,
      "outputs": []
    },
    {
      "cell_type": "code",
      "source": "#7) Даны две произвольные строки. Для всех символов первой строки, которые встречаются во второй строке (без учета регистра), вывести строку: \"<номер_символа_в_первой_строке> встречается в строке поиска: <второе_слово>\", причем второе слово выводить в нижнем регистре с найденным символом в верхнем регистре. Например, для исходной строки \"Hello world!\" и строки поиска 'HERD' третья строка в выводе будет содержать текст:\n\"9 символ встречается в строке поиска: heRd\".\nstr1 = input().lower()\nstr2 = input().lower()\nset1 = set(i for i in str1)\nset2 = set(i for i in str2)\nd = set1 & set2 #общие элементы двух множеств\nfor s in range(len(str1)):\n    if str[s] in d:\n        print(f\"{s + 1} символ найден в строке поиска: {str2[:str2.index (stri[il) ]+str1[i].upper()*str2[str2.index(str1[i])}",
      "metadata": {},
      "execution_count": null,
      "outputs": []
    }
  ]
}