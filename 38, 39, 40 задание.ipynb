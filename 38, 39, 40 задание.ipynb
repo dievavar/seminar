{
 "cells": [
  {
   "cell_type": "markdown",
   "id": "849172b1",
   "metadata": {},
   "source": [
    "11. \n",
    "\n",
    "Необходимо отсортировать список товаров по количеству продаж и вывести результат на экран. В зависимости от переданного параметра отсортировать список товаров по возрастанию или по убыванию количества продаж, используя алгоритмы сортировки: сортировку вставками, сортировку выбором и быструю сортировку. Сравнить время выполнения алгоритмов сортировки с помощью декоратора. Данные о товарах хранятся в файле."
   ]
  },
  {
   "cell_type": "code",
   "execution_count": null,
   "id": "1a0a1972",
   "metadata": {},
   "outputs": [],
   "source": [
    "import timeit\n",
    "from typing import List, Tuple\n",
    "\n",
    "def read_products(filename: str) -> List[Tuple[str, int]]:\n",
    "    products = []\n",
    "    with open(filename, 'r') as file:\n",
    "        for line in file:\n",
    "            product_name, sales = line.strip().split(' ')\n",
    "            products.append((product_name, int(sales)))\n",
    "    return products\n",
    "\n",
    "def insertion_sort(products: List[Tuple[str, int]], reverse=False) -> List[Tuple[str, int]]:\n",
    "    for i in range(1, len(products)):\n",
    "        key = products[i]\n",
    "        j = i - 1\n",
    "        while j >= 0 and (key > products[j] if reverse else key < products[j]):\n",
    "            products[j + 1] = products[j]\n",
    "            j -= 1\n",
    "        products[j + 1] = key\n",
    "    return products\n",
    "\n",
    "def selection_sort(products: List[Tuple[str, int]], reverse=False) -> List[Tuple[str, int]]:\n",
    "    for i in range(len(products)):\n",
    "        min_index = i\n",
    "        for j in range(i+1, len(products)):\n",
    "            if (products[min_index] > products[j] if reverse else products[min_index] < products[j]):\n",
    "                min_index = j\n",
    "        products[i], products[min_index] = products[min_index], products[i]\n",
    "    return products\n",
    "\n",
    "def quick_sort(products: List[Tuple[str, int]], low: int, high: int, reverse=False) -> List[Tuple[str, int]]:\n",
    "    if low < high:\n",
    "        pi = partition(products, low, high, reverse)\n",
    "        quick_sort(products, low, pi-1, reverse)\n",
    "        quick_sort(products, pi+1, high, reverse)\n",
    "    return products\n",
    "\n",
    "def partition(products: List[Tuple[str, int]], low: int, high: int, reverse=False) -> int:\n",
    "    pivot = products[high]\n",
    "    i = low - 1\n",
    "    for j in range(low, high):\n",
    "        if (pivot > products[j] if reverse else pivot < products[j]):\n",
    "            i += 1\n",
    "            products[i], products[j] = products[j], products[i]\n",
    "    products[i+1], products[high] = products[high], products[i+1]\n",
    "    return i + 1\n",
    "\n",
    "def timing_decorator(func):\n",
    "    def wrapper(*args, **kwargs):\n",
    "        start_time = timeit.default_timer()\n",
    "        result = func(*args, **kwargs)\n",
    "        end_time = timeit.default_timer()\n",
    "        print(f\"Time taken by {func.__name__}: {end_time - start_time} seconds\")\n",
    "        return result\n",
    "    return wrapper\n",
    "\n",
    "@timing_decorator\n",
    "def sort_products_by_sales(products: List[Tuple[str, int]], sort_order='asc'):\n",
    "    if sort_order.lower() == 'desc':\n",
    "        products = quick_sort(products, 0, len(products)-1, reverse=True)\n",
    "    else:\n",
    "        products = quick_sort(products, 0, len(products)-1)\n",
    "    return products\n",
    "\n",
    "filename = 'products.txt'\n",
    "products = read_products(filename)\n",
    "sorted_products = sort_products_by_sales(products, sort_order='desc')\n",
    "for product in sorted_products:\n",
    "    print(product)"
   ]
  },
  {
   "cell_type": "markdown",
   "id": "0fc0f5ee",
   "metadata": {},
   "source": [
    "11.\n",
    "\n",
    "Реализовать класс бинарного дерева. Написать функцию для нахождения всех путей от корня до листьев в бинарном дереве."
   ]
  },
  {
   "cell_type": "code",
   "execution_count": 8,
   "id": "61489f6c",
   "metadata": {},
   "outputs": [
    {
     "name": "stdout",
     "output_type": "stream",
     "text": [
      "[1, 2, 4]\n",
      "[1, 2, 4, 5]\n",
      "[1, 2, 4, 5, 3]\n"
     ]
    }
   ],
   "source": [
    "class TreeNode:\n",
    "    def __init__(self, x):\n",
    "        self.val = x\n",
    "        self.left = None\n",
    "        self.right = None\n",
    "\n",
    "def find_paths(root):\n",
    "    paths = []\n",
    "    if root is None:\n",
    "        return paths\n",
    "    \n",
    "    path = []\n",
    "    find_path_helper(root, path, paths)\n",
    "    \n",
    "    return paths\n",
    "\n",
    "def find_path_helper(node, path, paths):\n",
    "    if node is None:\n",
    "        return\n",
    "    \n",
    "    path.append(node.val)\n",
    "    \n",
    "    if node.left is None and node.right is None:\n",
    "        paths.append(path.copy())\n",
    "    else:\n",
    "        find_path_helper(node.left, path, paths)\n",
    "        find_path_helper(node.right, path, paths)\n",
    "\n",
    "# Пример использования\n",
    "root = TreeNode(1)\n",
    "root.left = TreeNode(2)\n",
    "root.right = TreeNode(3)\n",
    "root.left.left = TreeNode(4)\n",
    "root.left.right = TreeNode(5)\n",
    "\n",
    "paths = find_paths(root)\n",
    "for path in paths:\n",
    "    print(path)\n"
   ]
  },
  {
   "cell_type": "markdown",
   "id": "a74d2d76",
   "metadata": {},
   "source": [
    "11. \n",
    "\n",
    "\n",
    "Реализуйте алгоритм поиска медианы в отсортированном массиве с использованием двоичной кучи."
   ]
  },
  {
   "cell_type": "code",
   "execution_count": 9,
   "id": "b71e1d23",
   "metadata": {},
   "outputs": [
    {
     "name": "stdout",
     "output_type": "stream",
     "text": [
      "Медиана: 1\n",
      "Медиана для четного массива: 1\n"
     ]
    }
   ],
   "source": [
    "import heapq\n",
    "\n",
    "def build_heap(arr):\n",
    "    heap = arr[:]\n",
    "    heapq.heapify(heap)\n",
    "    return heap\n",
    "\n",
    "def find_median(arr):\n",
    "    n = len(arr)\n",
    "    heap = build_heap(arr)\n",
    "    median = heapq.heappop(heap)\n",
    "    if n % 2 == 0:\n",
    "        # Если размер массива четный, медиана - это среднее значение минимального и максимального элементов\n",
    "        max_element = max(heap)\n",
    "        median = (median + max_element) / 2\n",
    "    return median\n",
    "\n",
    "# Пример использования\n",
    "arr = [1, 2, 3, 4, 5, 6, 7, 8, 9]\n",
    "median = find_median(arr)\n",
    "print(f\"Медиана: {median}\")\n",
    "\n",
    "# Для массива с четным числом элементов\n",
    "arr_even = [1, 2, 3, 4, 5]\n",
    "median_even = find_median(arr_even)\n",
    "print(f\"Медиана для четного массива: {median_even}\")\n"
   ]
  },
  {
   "cell_type": "code",
   "execution_count": null,
   "id": "71690243",
   "metadata": {},
   "outputs": [],
   "source": []
  }
 ],
 "metadata": {
  "kernelspec": {
   "display_name": "Python 3 (ipykernel)",
   "language": "python",
   "name": "python3"
  },
  "language_info": {
   "codemirror_mode": {
    "name": "ipython",
    "version": 3
   },
   "file_extension": ".py",
   "mimetype": "text/x-python",
   "name": "python",
   "nbconvert_exporter": "python",
   "pygments_lexer": "ipython3",
   "version": "3.11.4"
  }
 },
 "nbformat": 4,
 "nbformat_minor": 5
}
