{
 "cells": [
  {
   "cell_type": "raw",
   "id": "d035d495",
   "metadata": {},
   "source": [
    "1) На основе переданной строки (не содержащей повторяющихся символов) создать словарь, в котром каждому символу строки будет соответствовать номер символа в строке. Пример: строка 'abcdef'"
   ]
  },
  {
   "cell_type": "code",
   "execution_count": 4,
   "id": "572f1134",
   "metadata": {},
   "outputs": [
    {
     "name": "stdout",
     "output_type": "stream",
     "text": [
      "Введите строку(не содержащей повторяющихся символов): abcdef\n",
      "{'a': 1, 'b': 2, 'c': 3, 'd': 4, 'e': 5, 'f': 6}\n"
     ]
    }
   ],
   "source": [
    "a = input(\"Введите строку(не содержащей повторяющихся символов): \")\n",
    "print({i: (j + 1) for j,i in enumerate(a)})"
   ]
  },
  {
   "cell_type": "raw",
   "id": "a7649348",
   "metadata": {},
   "source": [
    "2) Определить сколько элементов заданного списка содержится в словаре. Пример: определить сколько элементов списка l1 содержится в словаре d1 (ответ: 2)"
   ]
  },
  {
   "cell_type": "code",
   "execution_count": 6,
   "id": "6b7294f1",
   "metadata": {},
   "outputs": [
    {
     "name": "stdout",
     "output_type": "stream",
     "text": [
      "Введите элементы списка:питон\n",
      "Введите элементы списка:юпитер\n",
      "Введите элементы списка:дом\n",
      "Введите элементы списка:доп \n",
      "Введите элементы списка:один\n",
      "1\n"
     ]
    }
   ],
   "source": [
    "a = [input(\"Введите элементы списка:\") for i in range(5)]\n",
    "s = {\"ноль\", \"дом\", \"учеба\"}\n",
    "ct = 0\n",
    "for i in a:\n",
    "    if i in s:\n",
    "        ct += 1\n",
    "print(ct)"
   ]
  },
  {
   "cell_type": "raw",
   "id": "44b72659",
   "metadata": {},
   "source": [
    "3) Для строки evgene_o создать словарь где для всех символов, встречающихся в строке хранится число: сколько раз символ встретился в строке evgene_o."
   ]
  },
  {
   "cell_type": "code",
   "execution_count": 11,
   "id": "8f08c5c4",
   "metadata": {},
   "outputs": [
    {
     "name": "stdout",
     "output_type": "stream",
     "text": [
      "{'e': 3, 'v': 1, 'g': 1, 'n': 1, '_': 1, 'o': 1}\n"
     ]
    }
   ],
   "source": [
    "a = \"evgene_o\"\n",
    "print({i: a.count(i) for i in a})"
   ]
  },
  {
   "cell_type": "raw",
   "id": "054f2db1",
   "metadata": {},
   "source": [
    "4) Используя словарь, полученный в задаче 4.3 подсчитать количество строчных букв в строке evgene_o."
   ]
  },
  {
   "cell_type": "code",
   "execution_count": 16,
   "id": "a464fd59",
   "metadata": {},
   "outputs": [
    {
     "name": "stdout",
     "output_type": "stream",
     "text": [
      "7\n"
     ]
    }
   ],
   "source": [
    "a = {'e': 3, 'v': 1, 'g': 1, 'n': 1, '_': 1, 'o': 1}\n",
    "print(sum(value for key, value in a.items() if key.islower()))"
   ]
  },
  {
   "cell_type": "raw",
   "id": "0cf1b9ad",
   "metadata": {},
   "source": [
    "5) Написать код, который создает новый словарь с именем dic4, содержащий все пары ключ-значение из словарей dic1, dic2, dic3."
   ]
  },
  {
   "cell_type": "code",
   "execution_count": 17,
   "id": "1dd93a31",
   "metadata": {},
   "outputs": [
    {
     "name": "stdout",
     "output_type": "stream",
     "text": [
      "{'ноль': 0, 'один': 1, 'два': 2, 'три': 3, 'четыре': 4, 'пять': 5}\n"
     ]
    }
   ],
   "source": [
    "dic1={'ноль':0}\n",
    "dic2={'один':1, 'два':2}\n",
    "dic3={'три':3,'четыре':4,'пять':5}\n",
    "dic4={**dic1,**dic2,**dic3}\n",
    "print(dic4)"
   ]
  },
  {
   "cell_type": "raw",
   "id": "3bd03711",
   "metadata": {},
   "source": [
    "6) Просуммировать все значения из словаря dic4"
   ]
  },
  {
   "cell_type": "code",
   "execution_count": 24,
   "id": "f1629972",
   "metadata": {},
   "outputs": [
    {
     "name": "stdout",
     "output_type": "stream",
     "text": [
      "15\n"
     ]
    }
   ],
   "source": [
    "a = {'ноль': 0, 'один': 1, 'два': 2, 'три': 3, 'четыре': 4, 'пять': 5}\n",
    "print(sum(dic4.values()))"
   ]
  },
  {
   "cell_type": "raw",
   "id": "2f186c4b",
   "metadata": {},
   "source": [
    "7) Перемножить все значения из словаря dic4"
   ]
  },
  {
   "cell_type": "code",
   "execution_count": 25,
   "id": "1c7fa837",
   "metadata": {},
   "outputs": [
    {
     "name": "stdout",
     "output_type": "stream",
     "text": [
      "0\n"
     ]
    }
   ],
   "source": [
    "a = {'ноль': 0, 'один': 1, 'два': 2, 'три': 3, 'четыре': 4, 'пять': 5}\n",
    "ot = 1\n",
    "for i in a.values():\n",
    "    ot *= i\n",
    "print(ot)"
   ]
  },
  {
   "cell_type": "raw",
   "id": "6cec93a8",
   "metadata": {},
   "source": [
    "8) Просуммировать произведения ключей на словаря dic4 на соответствующие им значения"
   ]
  },
  {
   "cell_type": "code",
   "execution_count": 27,
   "id": "f9c3afae",
   "metadata": {},
   "outputs": [
    {
     "name": "stdout",
     "output_type": "stream",
     "text": [
      "70\n"
     ]
    }
   ],
   "source": [
    "dic4 = {1: 0, 2: 1, 3: 2, 4: 3, 5: 4, 6: 5}\n",
    "print(sum(key * value for key, value in dic4.items()))"
   ]
  },
  {
   "cell_type": "raw",
   "id": "d6c17ea2",
   "metadata": {},
   "source": [
    "9) На базе словаря dic6 создать словарь dic7 в котором нет пар ключ-значение с ключами, встречающимися в словаре dic5"
   ]
  },
  {
   "cell_type": "code",
   "execution_count": 28,
   "id": "0c698fbe",
   "metadata": {},
   "outputs": [
    {
     "name": "stdout",
     "output_type": "stream",
     "text": [
      "{'один': 1, 'два': 2}\n"
     ]
    }
   ],
   "source": [
    "dic6={'один':1, 'два':2,'четыре':4}\n",
    "dic5={'три':3,'четыре':4,'пять':5}\n",
    "dic7 = {key: value for key, value in dic6.items() if key not in dic5}\n",
    "print(dic7)"
   ]
  },
  {
   "cell_type": "raw",
   "id": "a399a168",
   "metadata": {},
   "source": [
    "10) Создать словарь dic8 в котором есть все пары ключ-значения из dic5, а для ключей, которые есть в dic6, но отсутствуют в dic5 добавить соответствующие пары ключ-значения в dic8."
   ]
  },
  {
   "cell_type": "code",
   "execution_count": 29,
   "id": "ae3433c2",
   "metadata": {},
   "outputs": [
    {
     "name": "stdout",
     "output_type": "stream",
     "text": [
      "{'три': 3, 'четыре': 4, 'пять': 5, 'один': 1, 'два': 2}\n"
     ]
    }
   ],
   "source": [
    "dic6={'один':1, 'два':2,'четыре':4}\n",
    "dic5={'три':3,'четыре':4,'пять':5}\n",
    "dic8={**dic5,**dic6}\n",
    "print(dic8)"
   ]
  },
  {
   "cell_type": "raw",
   "id": "31bd6010",
   "metadata": {},
   "source": [
    "11) Из списка ri1 получить упорядоченный по возрастанию список не имеющий повторяющихся значений."
   ]
  },
  {
   "cell_type": "code",
   "execution_count": 30,
   "id": "8a1e6bf9",
   "metadata": {},
   "outputs": [
    {
     "name": "stdout",
     "output_type": "stream",
     "text": [
      "[1, 2, 3, 4, 5]\n"
     ]
    }
   ],
   "source": [
    "ri1 = [3, 1, 2, 2, 3, 4, 5]\n",
    "a = sorted(set(ri1))\n",
    "print(a)"
   ]
  },
  {
   "cell_type": "raw",
   "id": "298cfa50",
   "metadata": {},
   "source": [
    "11.2) Используя распаковку из списка списков сделать список, содержащий последовательность первых и последних значений вложенных списков и сохраняющий порядок их следования."
   ]
  },
  {
   "cell_type": "code",
   "execution_count": 31,
   "id": "c10049df",
   "metadata": {},
   "outputs": [
    {
     "name": "stdout",
     "output_type": "stream",
     "text": [
      "[1, 3, 4, 6, 7, 9]\n"
     ]
    }
   ],
   "source": [
    "a=[[1, 2, 3], [4, 5, 6], [7, 8, 9]]\n",
    "b=[i[0] for i in a] + [i[-1] for i in a]\n",
    "print(sorted(b))"
   ]
  },
  {
   "cell_type": "raw",
   "id": "79797a14",
   "metadata": {},
   "source": [
    "11.3) В словаре, полученном в задаче 3 удалить все пары ключ/значения для символов, встречающихся менее 5 раз."
   ]
  },
  {
   "cell_type": "code",
   "execution_count": 34,
   "id": "31053689",
   "metadata": {},
   "outputs": [
    {
     "name": "stdout",
     "output_type": "stream",
     "text": [
      "{}\n"
     ]
    }
   ],
   "source": [
    "a = {'e': 3, 'v': 1, 'g': 1, 'n': 1, '_': 1, 'o': 1}\n",
    "print({i: j for i, j in a.items() if j >= 5})"
   ]
  }
 ],
 "metadata": {
  "kernelspec": {
   "display_name": "Python 3 (ipykernel)",
   "language": "python",
   "name": "python3"
  },
  "language_info": {
   "codemirror_mode": {
    "name": "ipython",
    "version": 3
   },
   "file_extension": ".py",
   "mimetype": "text/x-python",
   "name": "python",
   "nbconvert_exporter": "python",
   "pygments_lexer": "ipython3",
   "version": "3.11.4"
  }
 },
 "nbformat": 4,
 "nbformat_minor": 5
}
