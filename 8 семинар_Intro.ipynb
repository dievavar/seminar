{
  "metadata": {
    "kernelspec": {
      "name": "python",
      "display_name": "Python (Pyodide)",
      "language": "python"
    },
    "language_info": {
      "codemirror_mode": {
        "name": "python",
        "version": 3
      },
      "file_extension": ".py",
      "mimetype": "text/x-python",
      "name": "python",
      "nbconvert_exporter": "python",
      "pygments_lexer": "ipython3",
      "version": "3.8"
    }
  },
  "nbformat_minor": 5,
  "nbformat": 4,
  "cells": [
    {
      "cell_type": "code",
      "source": "# 1 \nl1 = ['1', '123', '123', '12', '1', '123']\nprint([len(i) for i in l1])",
      "metadata": {},
      "execution_count": null,
      "outputs": [],
      "id": "ff7e2386-cbc4-4b59-a07c-bf50cb7932aa"
    },
    {
      "cell_type": "code",
      "source": "# 2\nl1 = ['1', '123', '123', '12', '1', '123']\nprint(sum(1 for x in l1 if len(x) > 2))",
      "metadata": {},
      "execution_count": null,
      "outputs": [],
      "id": "362fb00a-69b7-4a75-84d8-c95e5e0cbefe"
    },
    {
      "cell_type": "code",
      "source": "# 3 \nl2 = [2, 4, -2, -3, 0 , 11 , 3, -1]\nprint([l2[i] * (l2.index(l2[i]) + 1) for i in range(len(l2))])",
      "metadata": {},
      "execution_count": null,
      "outputs": [],
      "id": "008d2730-6d55-43d8-b6ac-79fa83bb4045"
    },
    {
      "cell_type": "code",
      "source": "# 4\nl2 = [2, 4, -2, -3, 0 , 11 , 3, -1]\nprint([i for i in l2 if i > 0 ])",
      "metadata": {},
      "execution_count": null,
      "outputs": [],
      "id": "cba86fed-9623-499a-a64f-11cacd0e2d12"
    },
    {
      "cell_type": "code",
      "source": "# 5 \nl2 = [2, 4, -2, -3, 0 , 11 , 3, -1]\nprint([i if i >= 0 else (l2.index(i) + 1) for i in l2])",
      "metadata": {},
      "execution_count": null,
      "outputs": [],
      "id": "49e41108-8ab8-43ea-8690-b6e8679af092"
    },
    {
      "cell_type": "code",
      "source": "# 6\na = input() \nprint({char: index + 1 for index, char in enumerate(a)}) ",
      "metadata": {},
      "execution_count": null,
      "outputs": [],
      "id": "2ada9a31-44c3-4ecf-8c6d-ab5a785427b4"
    },
    {
      "cell_type": "code",
      "source": "# 7\nlst = [input() for i in range(5)] #пусть длина списка 5\nprint(sum(1 for c in lst if c in result))",
      "metadata": {},
      "execution_count": null,
      "outputs": [],
      "id": "9343615e-0158-4895-a2d2-dff5d37dacdf"
    },
    {
      "cell_type": "code",
      "source": "# 8\nprint({c: \"evgene_o\".count(c) for c in set(\"evgene_o\")})",
      "metadata": {},
      "execution_count": null,
      "outputs": [],
      "id": "38c97481-fb3d-4c76-9dc8-98d8824087b2"
    },
    {
      "cell_type": "code",
      "source": "# 9\n\na = ({char: \"evgene_o\".count(char) for char in set(\"evgene_o\")})\nprint(sum(value for key, value in a.items() if key.islower()))",
      "metadata": {},
      "execution_count": null,
      "outputs": [],
      "id": "85ef8ed4-2dd4-4603-945a-c21f8bcee726"
    },
    {
      "cell_type": "code",
      "source": "# 10\nd4 = {1: 10, 2: 20, 3: 30, 4: 40, 5: 50, 6: 60}\nprint(sum(key * value for key, value in d4.items()))",
      "metadata": {},
      "execution_count": null,
      "outputs": [],
      "id": "ed6297f9-f47a-4b75-bf90-0867c7cd9fff"
    },
    {
      "cell_type": "code",
      "source": "# 11\nd6 = {'e': 20, 'f': 21, 'g': 22, 'h': 23, 'i': 24, 'j': 25, 'k': 26, 'l': 27}\nd5 = {'a': 3, 'b': 4, 'c': 5, 'd': 6, 'e': 7, 'f': 8, 'g': 9}\nprint({key: value for key, value in d6.items() if key not in d5})",
      "metadata": {},
      "execution_count": null,
      "outputs": [],
      "id": "ec8a2538-1b62-4094-b9d7-acefe88c5a91"
    },
    {
      "cell_type": "code",
      "source": "# 12\nd5 = {'a': 3, 'b': 4, 'c': 5, 'd': 6, 'e': 7, 'f': 8, 'g': 9}\nd6 = {'e': 20, 'f': 21, 'g': 22, 'h': 23, 'i': 24, 'j': 25, 'k': 26, 'l': 27}\nprint({**d5, **({key: value for key, value in d6.items() if key not in d5})})",
      "metadata": {},
      "execution_count": null,
      "outputs": [],
      "id": "aa335074-d289-4ccf-bb25-22a781d41c6c"
    }
  ]
}