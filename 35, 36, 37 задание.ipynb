{
 "cells": [
  {
   "cell_type": "markdown",
   "id": "ca709d60",
   "metadata": {},
   "source": [
    "11. \n",
    "Создайте двусвязный список для хранения информации о студентах в университете. Каждый элемент списка должен содержать имя, фамилию, номер группы, список предметов, которые студент изучает, и оценки по каждому предмету.\n"
   ]
  },
  {
   "cell_type": "code",
   "execution_count": 4,
   "id": "179f6173",
   "metadata": {},
   "outputs": [
    {
     "name": "stdout",
     "output_type": "stream",
     "text": [
      "Имя: Иван, Фамилия: Иванов, Группа: БИО-01\n",
      "Предмет: Математика, Оценка: None\n",
      "Предмет: Физика, Оценка: None\n",
      "Предмет: Химия, Оценка: None\n"
     ]
    }
   ],
   "source": [
    "class Subject:\n",
    "    def __init__(self, name):\n",
    "        self.name = name\n",
    "        self.grade = None\n",
    "\n",
    "class Student:\n",
    "    def __init__(self, name, surname, group_number, subjects):\n",
    "        self.name = name\n",
    "        self.surname = surname\n",
    "        self.group_number = group_number\n",
    "        self.subjects = subjects  # Список объектов Subject\n",
    "\n",
    "class Node:\n",
    "    def __init__(self, student):\n",
    "        self.student = student\n",
    "        self.prev = None\n",
    "        self.next = None\n",
    "\n",
    "class DoublyLinkedList:\n",
    "    def __init__(self):\n",
    "        self.head = None\n",
    "        self.tail = None\n",
    "\n",
    "    def add_student(self, student):\n",
    "        new_node = Node(student)\n",
    "        if self.head is None:\n",
    "            self.head = self.tail = new_node\n",
    "        else:\n",
    "            new_node.prev = self.tail\n",
    "            self.tail.next = new_node\n",
    "            self.tail = new_node\n",
    "\n",
    "    def print_students(self):\n",
    "        current = self.head\n",
    "        while current:\n",
    "            print(f\"Имя: {current.student.name}, Фамилия: {current.student.surname}, Группа: {current.student.group_number}\")\n",
    "            for subject in current.student.subjects:\n",
    "                print(f\"Предмет: {subject.name}, Оценка: {subject.grade}\")\n",
    "            current = current.next\n",
    "\n",
    "# Пример использования\n",
    "subjects = [\n",
    "    Subject(\"Математика\"),\n",
    "    Subject(\"Физика\"),\n",
    "    Subject(\"Химия\")\n",
    "]\n",
    "\n",
    "student1 = Student(\"Иван\", \"Иванов\", \"БИО-01\", subjects)\n",
    "\n",
    "dll = DoublyLinkedList()\n",
    "dll.add_student(student1)\n",
    "dll.print_students()\n"
   ]
  },
  {
   "cell_type": "markdown",
   "id": "54fd3426",
   "metadata": {},
   "source": [
    "Реализовать функцию, которая находит среднее арифметическое всех элементов двусвязного списка."
   ]
  },
  {
   "cell_type": "code",
   "execution_count": 5,
   "id": "a275277a",
   "metadata": {},
   "outputs": [],
   "source": [
    "class Node:\n",
    "    def __init__(self, value=None):\n",
    "        self.value = value\n",
    "        self.next = None\n",
    "        self.prev = None\n",
    "\n",
    "class DoublyLinkedList:\n",
    "    def __init__(self):\n",
    "        self.head = None\n",
    "        self.tail = None\n",
    "        self.size = 0\n",
    "\n",
    "    def append(self, value):\n",
    "        if self.head is None:\n",
    "            new_node = Node(value)\n",
    "            self.head = self.tail = new_node\n",
    "        else:\n",
    "            new_node = Node(value)\n",
    "            self.tail.next = new_node\n",
    "            new_node.prev = self.tail\n",
    "            self.tail = new_node\n",
    "        self.size += 1\n",
    "\n"
   ]
  },
  {
   "cell_type": "markdown",
   "id": "58ded279",
   "metadata": {},
   "source": [
    "Реализовать функцию, которая проверяет, содержится ли заданный элемент в циклическом двусвязном списке."
   ]
  },
  {
   "cell_type": "code",
   "execution_count": null,
   "id": "5e84e392",
   "metadata": {},
   "outputs": [],
   "source": []
  }
 ],
 "metadata": {
  "kernelspec": {
   "display_name": "Python 3 (ipykernel)",
   "language": "python",
   "name": "python3"
  },
  "language_info": {
   "codemirror_mode": {
    "name": "ipython",
    "version": 3
   },
   "file_extension": ".py",
   "mimetype": "text/x-python",
   "name": "python",
   "nbconvert_exporter": "python",
   "pygments_lexer": "ipython3",
   "version": "3.11.4"
  }
 },
 "nbformat": 4,
 "nbformat_minor": 5
}
