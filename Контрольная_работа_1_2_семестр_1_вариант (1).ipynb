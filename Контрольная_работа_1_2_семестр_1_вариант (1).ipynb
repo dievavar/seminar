{
 "cells": [
  {
   "cell_type": "markdown",
   "metadata": {},
   "source": [
    "### Контрольная работа № 1.\n",
    "### Вариант 1.\n",
    "#### Студент _Диева Варвара Владимировна группа ___ТРПО23-2___"
   ]
  },
  {
   "cell_type": "markdown",
   "metadata": {},
   "source": [
    "1. Создайте класс Length (Длина), имеющий свойства\n",
    "\n",
    "• value (значение),\n",
    "\n",
    "• unit (единица измерения).\n",
    "\n",
    "При изменении единицы измерения значение должно соответственно меняться. Например, при переходе от сантиметров к метрам значение должно уменьшаться в 100 раз. Допустимые значения свойства unit: ‘см’, ‘м’, ‘км’. Организуйте эту проверку. Продемонстрируйте работу с классом."
   ]
  },
  {
   "cell_type": "code",
   "execution_count": 7,
   "metadata": {},
   "outputs": [
    {
     "name": "stdout",
     "output_type": "stream",
     "text": [
      "1000 м\n",
      "1.0 км\n",
      "100000.0 см\n"
     ]
    }
   ],
   "source": [
    "class Length:\n",
    "    def __init__(self, value, unit):\n",
    "        self.value = value\n",
    "        self.unit = unit\n",
    "\n",
    "    def convert_units(self, new_unit):\n",
    "        units = {'см': 1, 'м': 100, 'км': 100000}\n",
    "\n",
    "        if self.unit in units and new_unit in units:\n",
    "            self.value = self.value * units[self.unit] / units[new_unit]\n",
    "            self.unit = new_unit\n",
    "        else:\n",
    "            print(\"Ошибка\")\n",
    "\n",
    "    def __str__(self):\n",
    "        return f\"{self.value} {self.unit}\"\n",
    "\n",
    "# Продемонстрируйте работу с классом\n",
    "length = Length(1000, 'м')\n",
    "print(length)  \n",
    "\n",
    "length.convert_units('км')\n",
    "print(length)  \n",
    "\n",
    "length.convert_units('см')\n",
    "print(length)  "
   ]
  },
  {
   "cell_type": "markdown",
   "metadata": {},
   "source": [
    "2. Создайте класс Ведомость, имеющий\n",
    "атрибут класса:\n",
    "\n",
    "• список_дисциплин (значением является список с названиями дисциплин);\n",
    "\n",
    "свойства:\n",
    "\n",
    "• дисциплина (при задании значения проверять наличие дисциплины в атрибуте список_дисциплин),\n",
    "\n",
    "• группа;\n",
    "\n",
    "методы:\n",
    "\n",
    "• put – добавляет в ведомость информацию об оценке студента (фамилия, оценка – параметры метода). Для хранения данных внутри класса используйте словарь, в котором ключом является фамилия студента. Возможные оценки – «отлично», «хорошо», «удовл.», «неудовл.», «н/я»;\n",
    "\n",
    "• get – возвращает оценку, полученную студентом (фамилия студента – параметр метода);\n",
    "\n",
    "• change – изменяет оценку, полученную студентом (фамилия студента и новая оценка – параметры метода);\n",
    "\n",
    "• del – удаляет информацию о студенте из ведомости (фамилия студента – параметр метода);\n",
    "\n",
    "• result – возвращает кортеж из 5 чисел (количество каждого вида оценок в ведомости);\n",
    "\n",
    "• __init__ – конструктор;\n",
    "\n",
    "• __str__ – возвращает строку, содержащую заголовки (название экзамена, группа) и результаты экзамена в виде таблицы;\n",
    "\n",
    "• count – возвращает количество студентов в ведомости;\n",
    "\n",
    "• names – возвращает список фамилий, имеющихся в ведомости.\n",
    "\n",
    "Продемонстрируйте работу с классом. \n"
   ]
  },
  {
   "cell_type": "code",
   "execution_count": 15,
   "metadata": {},
   "outputs": [
    {
     "name": "stderr",
     "output_type": "stream",
     "text": [
      "Exception ignored in: <function Statement.__del__ at 0x000002030F33BAC0>\n",
      "Traceback (most recent call last):\n",
      "  File \"C:\\Users\\233551\\AppData\\Local\\Temp\\ipykernel_13840\\3862832934.py\", line 48, in <module>\n",
      "TypeError: Statement.__del__() missing 1 required positional argument: 'surname'\n"
     ]
    },
    {
     "name": "stdout",
     "output_type": "stream",
     "text": [
      "(1, 1, 1, 1, 0)\n",
      "Экзамен: Математика\n",
      "Группа: ТРПО23-2\n",
      "\n",
      "Диева: отлично\n",
      "Бобоходжиева: хорошо\n",
      "Невольский: удовл.\n",
      "Страростина: неудовл.\n",
      "4\n",
      "['Диева', 'Бобоходжиева', 'Невольский', 'Страростина']\n",
      "Экзамен: Математика\n",
      "Группа: ТРПО23-2\n",
      "\n",
      "Диева: отлично\n",
      "Бобоходжиева: хорошо\n",
      "Невольский: удовл.\n",
      "Страростина: неудовл.\n"
     ]
    }
   ],
   "source": [
    "# Решение 2.\n",
    "class Statement:\n",
    "    list_of_disciplines = ['Физика', 'Информатика', \"Русский язык\", \"Биология\", \"Литература\"]\n",
    "    \n",
    "    #свойства\n",
    "\n",
    "    def __init__(self, discipline, group):\n",
    "        self.discipline = discipline\n",
    "        self.group = group\n",
    "        self.marks = {}\n",
    "\n",
    "    def put(self, surname, mark):\n",
    "        if mark in ['отлично', 'хорошо', 'удовл.', 'неудовл.', 'н/я']:\n",
    "            self.marks[surname] = mark\n",
    "        else:\n",
    "            print('Некорректная оценка')\n",
    "\n",
    "    def get(self, surname):\n",
    "        return self.marks.get(surname)\n",
    "\n",
    "    def change(self, surname, new_mark):\n",
    "        if new_mark in ['отлично', 'хорошо', 'удовл.', 'неудовл.', 'н/я']:\n",
    "            self.marks[surname] = new_mark\n",
    "        else:\n",
    "            print('Некорректная оценка')\n",
    "\n",
    "    def __del__(self, surname):\n",
    "        del self.marks[surname]\n",
    "\n",
    "    def result(self):\n",
    "        counts = {'отлично': 0, 'хорошо': 0, 'удовл.': 0, 'неудовл.': 0, 'н/я': 0}\n",
    "        for mark in self.marks.values():\n",
    "            counts[mark] += 1\n",
    "        return tuple(counts.values())\n",
    "\n",
    "    def __str__(self):\n",
    "        header = f'Экзамен: {self.discipline}\\nГруппа: {self.group}\\n\\n'\n",
    "        table = '\\n'.join([f'{surname}: {mark}' for surname, mark in self.marks.items()])\n",
    "        return header + table\n",
    "\n",
    "    def count(self):\n",
    "        return len(self.marks)\n",
    "\n",
    "    def names(self):\n",
    "        return list(self.marks.keys())\n",
    "\n",
    "# Продемонстрируйте работу с классом.\n",
    "statement = Statement('Математика', 'ТРПО23-2')\n",
    "\n",
    "statement.put('Диева', 'отлично')\n",
    "statement.put('Бобоходжиева', 'хорошо')\n",
    "statement.put('Невольский', 'удовл.')\n",
    "statement.put('Страростина', 'неудовл.')\n",
    "\n",
    "print(statement.result())  \n",
    "print(statement)  \n",
    "\n",
    "\n",
    "print(statement.count())  \n",
    "\n",
    "print(statement.names())  \n",
    "\n",
    "print(statement.__str__())  "
   ]
  },
  {
   "cell_type": "markdown",
   "metadata": {},
   "source": [
    "3. Создайте класс Заказ(Order), у которого есть свойства код_товара(code), цена(price), количество(count) и методы __init__ и __str__.\n",
    "\n",
    "Создайте 2 класса-потомка: Опт(Opt) и Розница(Retail).\n",
    "В этих классах создайте методы __init__, __str__.и сумма_заказа(summa), позволяющий узнать стоимость заказа.\n",
    "Для опта стоимость единицы товара составляет 95% от цены, а при покупке более 500 штук – 90% цены.\n",
    "В розницу стоимость единицы товара составляет 100% цены. Стоимость заказа равна произведению цены на количество. \n",
    "\n",
    "Продемонстрируйте работу с классами, создав необходимые объекты и обратившись к их свойствам и методам\n"
   ]
  },
  {
   "cell_type": "code",
   "execution_count": 18,
   "metadata": {},
   "outputs": [
    {
     "name": "stdout",
     "output_type": "stream",
     "text": [
      "Код товара: 245478732, Цена: 178, Количество: 600, Стоимость заказа: 96120.00000000001\n",
      "Код товара: 445647456, Цена: 180, Количество: 100, Стоимость заказа: 18000\n"
     ]
    }
   ],
   "source": [
    "# Решение 3.\n",
    "class Order:\n",
    "    #методы init и str\n",
    "    def __init__(self, code, price, count): #свойства код_товара(code), цена(price), количество(count)\n",
    "        self.code = code\n",
    "        self.price = price\n",
    "        self.count = count\n",
    "\n",
    "    def __str__(self):\n",
    "        return f\"Код товара: {self.code}, Цена: {self.price}, Количество: {self.count}\"\n",
    "\n",
    "\n",
    "class Opt(Order):\n",
    "    def __init__(self, code, price, count):\n",
    "        super().__init__(code, price, count)\n",
    "\n",
    "    def summa(self):\n",
    "        if self.count > 500:\n",
    "            return 0.9 * self.price * self.count\n",
    "        else:\n",
    "            return 0.95 * self.price * self.count\n",
    "\n",
    "    def __str__(self):\n",
    "        return super().__str__() + f\", Стоимость заказа: {self.summa()}\"\n",
    "\n",
    "\n",
    "class Retail(Order):\n",
    "    def __init__(self, code, price, count):\n",
    "        super().__init__(code, price, count)\n",
    "\n",
    "    def summa(self):\n",
    "        return self.price * self.count\n",
    "\n",
    "    def __str__(self):\n",
    "        return super().__str__() + f\", Стоимость заказа: {self.summa()}\"\n",
    "\n",
    "\n",
    "#Продемонстрируйте работу с классами\n",
    "opt_order = Opt('245478732', 178, 600)\n",
    "retail_order = Retail('445647456', 180, 100)\n",
    "\n",
    "print(opt_order)\n",
    "print(retail_order)\n"
   ]
  },
  {
   "cell_type": "markdown",
   "metadata": {},
   "source": [
    "4. Написать функцию my_func_1(lst), которая переворачивает список вложенных списков с произвольным уровнем вложенности.\n",
    "Любой элемент, не являющийся списком, не должен быть изменен.\n",
    "\n",
    "Примеры, демонстрирующие ожидаемое поведение функции:\n",
    "\n",
    "assert my_func_1(42) == 42\n",
    "\n",
    "assert my_func_1([]) == []\n",
    "\n",
    "assert my_func_1([1, 2]) == [2, 1]\n",
    "\n",
    "assert my_func_1((1, 2)) == (1, 2)\n",
    "\n",
    "assert my_func_1([[1, 2], [3, [4, 5]], 6]) == [6, [[5, 4], 3], [2, 1]]\n",
    "\n",
    "assert my_func_1(['123', '456', '789', {10: [11, 12], 13: 14}, (15, 16)]) == [(15, 16), {10: [11, 12], 13: 14}, '789', '456', '123']\n",
    "\n",
    "assert my_func_1([[[[[1, 2]]]]]) == [[[[[2, 1]]]]]"
   ]
  },
  {
   "cell_type": "code",
   "execution_count": 21,
   "metadata": {},
   "outputs": [
    {
     "name": "stdout",
     "output_type": "stream",
     "text": [
      "[[[[[1, 2]]]]]\n",
      "[[[[[1, 2]]]]]\n"
     ]
    }
   ],
   "source": [
    "# Решение 4.\n",
    "def my_func_1(lst):\n",
    "    if not isinstance(lst, list): #проверить, является ли вводимый элемент списком\n",
    "        return lst\n",
    "\n",
    "    return [my_func_1(i)[::-1] for i in lst]\n",
    "\n",
    "# Проверка \n",
    "lst = input()\n",
    "print(my_func_1(lst))\n",
    "\n"
   ]
  },
  {
   "cell_type": "markdown",
   "metadata": {},
   "source": [
    "5.При помощи механизма map/filter/reduce возвести в квадрат числа от 1 до 100, и рассчитать их сумму, не включая в сумму числа, кратные 9. Написать реализацию в одну строку."
   ]
  },
  {
   "cell_type": "code",
   "execution_count": null,
   "metadata": {},
   "outputs": [],
   "source": [
    "# Решение 5."
   ]
  },
  {
   "cell_type": "code",
   "execution_count": 23,
   "metadata": {},
   "outputs": [
    {
     "name": "stdout",
     "output_type": "stream",
     "text": [
      "225589\n"
     ]
    }
   ],
   "source": [
    "from functools import reduce\n",
    "\n",
    "result = reduce(lambda x, y: x + y, filter(lambda x: x % 9 != 0, map(lambda x: x**2, range(1, 101))))\n",
    "print(result)"
   ]
  }
 ],
 "metadata": {
  "kernelspec": {
   "display_name": "Python 3 (ipykernel)",
   "language": "python",
   "name": "python3"
  },
  "language_info": {
   "codemirror_mode": {
    "name": "ipython",
    "version": 3
   },
   "file_extension": ".py",
   "mimetype": "text/x-python",
   "name": "python",
   "nbconvert_exporter": "python",
   "pygments_lexer": "ipython3",
   "version": "3.10.9"
  }
 },
 "nbformat": 4,
 "nbformat_minor": 4
}
