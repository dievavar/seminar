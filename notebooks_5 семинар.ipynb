{
  "metadata": {
    "language_info": {
      "name": ""
    },
    "kernelspec": {
      "name": "python",
      "display_name": "Python (Pyodide)",
      "language": "python"
    }
  },
  "nbformat_minor": 4,
  "nbformat": 4,
  "cells": [
    {
      "cell_type": "code",
      "source": "# 5 СЕМИНАР Регулярные выражения\n#1) Дана строка 'aaa--bbb==ccc__ddd'. Написать регулярное выражение для разбивки строки на список ['aaa','bbb','ccc','ddd'].\n\nimport re\ns = \"aaa--bbb==ccc__ddd\"\ns = re.split(\"--|==|__\", s)\nprint(s)",
      "metadata": {},
      "execution_count": null,
      "outputs": []
    },
    {
      "cell_type": "code",
      "source": "#2) Получить первое слово из произвольной строки. Например, для 'Yesterday, All my troubles seemed so far away' должно возвращаться 'Yesterday'.\n\nimport re\ns = input(\"\")\nword = research(r'\\w+', s).group()\nprint(word)",
      "metadata": {},
      "execution_count": null,
      "outputs": []
    },
    {
      "cell_type": "code",
      "source": "#3) Получить последнее слово из произвольной строки.\n\nimport re\ns = input('')\nword = re. findall(r'\\w+', s)[-1]\nprint(word)",
      "metadata": {},
      "execution_count": null,
      "outputs": []
    },
    {
      "cell_type": "code",
      "source": "#4) В следующем отрывке найти все слова, которые начинаются на гласную букву.\n\nimport re\ns = input('\")\nword = re.findall(r'\\[eyuioaEYUIOA]\\w+', s)\nprint(word)",
      "metadata": {},
      "execution_count": null,
      "outputs": []
    },
    {
      "cell_type": "code",
      "source": "#5) В этом же отрывке найти первое слово каждой строки.\n\nimport re\ns = input('')\nemail = re.findall(r'w+[@]\\w+[.]\\w+', s)\nprint(email)",
      "metadata": {},
      "execution_count": null,
      "outputs": []
    },
    {
      "cell_type": "code",
      "source": "#6) Проверить корректность введенного E-mail\n\nimport re\ns = input(\"\")\nemail = re.findali(r'w+[@]\\w+[.]\\w+', s)\nif bool(email) is True:\n    domain = re.findall(r\"\\w+\", s)[-1]\n    print(domain)\nelse:\n    print('error')",
      "metadata": {},
      "execution_count": null,
      "outputs": []
    },
    {
      "cell_type": "code",
      "source": "#7) В следующей строке найти все email-адреса и вывести только доменные имена.\n\nimport re\nа= \"Пример текста с электронными адресами ekample1@email.com, example2@yahoo.com, example3@hotmail.com\"\nrex= r'\\b[A-Za-z0-9._%+-]+@[A-Za-z0-9.-]+\\.[A-Za-z]{2,}\\b'\naddress = re.findall(rex, a)\ndom = [address.split('@')[1] for address in address]\nprint(\"Доменные имена:\")\nfor dom in dom:\n    print(dom)",
      "metadata": {},
      "execution_count": null,
      "outputs": []
    },
    {
      "cell_type": "code",
      "source": "#8) Проверить корректность введенного номера мобильного телефона. Корректными считаются:\n#+7(999)999-99-99\n#+7 (999) 999-99-99\n#+7 999 999-99-99\n#+7 999 999 99 99\n#+79999999999\n\nimport re\nnum = input(\"Введите номер мобильного телефона: \")\nrex = r'^\\+7 (\\s?\\d{3}){2}-\\d{2}-\\d{2}$|^\\+7\\s?\\d{3}\\s?\\d{3}-\\d{2}-\\d{2}$|^|+7\\s?\\d{3}\\s?\\d{3}\\s?\\d{2}\\s?\\d{2}$'\nif re.match(rex, num):\n    print(\"Номер мобильного телефона введен в правильном формате.\")\nelse:\n    print(\"Номер мобильного телефона введен в неправильном формате.\")",
      "metadata": {},
      "execution_count": null,
      "outputs": []
    }
  ]
}