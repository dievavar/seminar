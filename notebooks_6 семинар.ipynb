{
  "metadata": {
    "kernelspec": {
      "name": "python",
      "display_name": "Python (Pyodide)",
      "language": "python"
    },
    "language_info": {
      "codemirror_mode": {
        "name": "python",
        "version": 3
      },
      "file_extension": ".py",
      "mimetype": "text/x-python",
      "name": "python",
      "nbconvert_exporter": "python",
      "pygments_lexer": "ipython3",
      "version": "3.8"
    }
  },
  "nbformat_minor": 5,
  "nbformat": 4,
  "cells": [
    {
      "cell_type": "code",
      "source": "#Задачи по спискам\n#1) Создать список из чисел 31, 24, 17 тремя способами: перечисление, на основе другого списка (по сути, создать копию списка), \n#с помощью функции range. Вывести списки на печать. Создать и вывести список, состоящий из полученных списков.\n#Перечисление:\nnumbers = [31, 24, 17]\nprint(numbers)\n\n#На основе другого списка:\nnumberscopy = numbers[:]\nprint(numberscopy)\n\n#С помощью функции range:\nnumbersrange = list(range(31, 16, -7))\nprint(numbersrange)\n\n#Создание списка, состоящего из полученных списков:\ncombinedlist = [numbers, numberscopy, numbersrange]\nprint(combinedlist)",
      "metadata": {
        "trusted": true
      },
      "execution_count": null,
      "outputs": [],
      "id": "218836b5-6264-4a6f-b863-9020ad40afc9"
    },
    {
      "cell_type": "code",
      "source": "#2.1) Создать список из всех симоволов имеющихся во введенной пользователем строке.\na = input(\"Введите строку: \")\nl = []\nl.extend(str(a))\nprint(l)",
      "metadata": {},
      "execution_count": null,
      "outputs": [],
      "id": "5cf12821-91ab-4290-9420-29fbd20e2853"
    },
    {
      "cell_type": "code",
      "source": "#2.2) Создать список из всех слов имеющихся во введенной пользователем строке.\na = input(\"Введите строку: \").split( )\nl = []\nl.append(a)\nprint(l)",
      "metadata": {},
      "execution_count": null,
      "outputs": [],
      "id": "a08c8764-98ee-4928-9392-35f2ed867886"
    },
    {
      "cell_type": "code",
      "source": "#2.3) Создать и вывести список из всех цифр, встречающихся в заданной строке.\na = input(\"Ведите строку: \")\nl = []\nfor i in a:\n    if i in \"0123456789\":\n        l.append(i)\nprint(l)",
      "metadata": {},
      "execution_count": null,
      "outputs": [],
      "id": "896ad2a5-c4ba-4aad-8737-24cbb6d2e976"
    },
    {
      "cell_type": "code",
      "source": "#4) Создать список из двух произвольных строк s1 и s2, их длин и результата проверки соблюдения лексикографического порядка \n#(идет ли первая строка раньше второй). В зависимости от параметра output путем обращения к элементам списка выводить либо длины строк\n#(output='lengths', в формате \"Длины строк: 4 и 5\"), либо описание порядка (output='order', в формате \"Строка 'первая' идет ПОСЛЕ строки 'вторая'\").\n\ns1 = input()\ns2 = input()\norder_string = \"идет ПОСЛЕ\" if s1 > s2 else \"идет ДО\"\noutput = input(\"Введите 'lengths' или 'order': \")\nif output == 'lengths':\n    print(f\"Длины строк: {len(s1)} и {len(s2)}\")\nelif output == 'order':\n    print(f\"Строка '{s1}' {order_string} строки '{s2}'\")",
      "metadata": {},
      "execution_count": null,
      "outputs": [],
      "id": "e1bc5992-8532-45ca-bd57-7d878b14a1d7"
    },
    {
      "cell_type": "code",
      "source": "#5.1) Запросить у пользователя 2 целых числа и сохранить их в переменных max_val, repeat. Создать список из целых чисел со значениями \n#от 1 до max_val включительно повторяющийся repeat раз.Например для max_val=4, repeat=4 будет создан список: [1, 2, 3, 4, 1, 2, 3, 4, 1, 2, 3, 4,]\n\nmax_val, repeat = int(input()), int(input())\na = [i for i in range(1, max_val + 1)] * repeat\nprint(a)",
      "metadata": {},
      "execution_count": null,
      "outputs": [],
      "id": "18cd6e6f-9cdc-44f3-9cc0-51b79ab7c74e"
    },
    {
      "cell_type": "code",
      "source": "#5.2) На основе списка из 5.1 созданного при max_val = 10 создать его копию (значение repeat заранее неизвестно).\n#В копии с помощью среза удалить 80% элементов из середины. Все элементы исходного списка, которые не сохранены в скопированном списке, умножить на десять\n\nmax_val = 10  # задано условием\nlist_original = [i for i in range(1, max_val+1)] * repeat\nlist_copy = list_original.copy()\nmiddle_cut = int(0.8 * len(list_copy))\nstart = middle_cut // 2\nend = len(list_copy) - (middle_cut - start)\nlist_copy = list_copy[:start] + list_copy[end:]\nremaining_elements = [i for i in list_original if i not in list_copy]\nmultiplied_elements = [i*10 for i in remaining_elements]\nprint(list_copy)\nprint(multiplied_elements)    ",
      "metadata": {},
      "execution_count": null,
      "outputs": [],
      "id": "2cff58c9-6e4e-45e9-9b91-8a6c55bf3e83"
    },
    {
      "cell_type": "code",
      "source": "#6) Из произвольной строки создать список. Вместо каждой буквы \"s\" (без учета регистра), стоящей не на первом и не на последнем месте, вставить \n#в список строку из двойного предыдущего символа и одного следующего. Например, из строки \"test_Stringss\" должен получиться список \n#['t', 'e', 'eet', 't', '_', '__t', 't', 'r', 'i', 'n', 'g', 'ggs', 's'].\n\na = input()\na1 = list(a)\no = []\nfor i in range(1, len(a1) - 1):\n    if a1[i] == \"s\" or a1[i] == \"S\":\n        a1[i] = (a1[i - 1]) * 2 + (a1[i + 1])\n        o.append(a1[i])\n    else:\n        o.append(a1[i])\n        \nj = [a1[0]] + o + [a1[-1]]\nprint(j)   ",
      "metadata": {},
      "execution_count": null,
      "outputs": [],
      "id": "9aaaaa4e-49a3-4f32-a1d6-20ecae109bcd"
    },
    {
      "cell_type": "code",
      "source": "#7)* Организовать заполнение списка заданной длины пользователем через input(). Если на вход подается число (целое или через точку),\n#то записывать в список целое число с округлением вверх. Если \"True\" или \"False\", то как boolean. Иначе - как строку.\n\nimport math\nlength = int(input(\"Введите длину списка: \"))\nresult = []\nfor _ in range(length):\n    value = input(\"Введите значение: \")\n    if  \".\" in value or value.isdigit() == True:\n        value = float(value)\n        value = math.ceil(value)\n        result.append(value)\n    elif value.lower() == \"True\":\n        result.append(True)\n    elif value.lower() == \"False\":\n        result.append(False)\n    else:\n        result.append(value)\n\nprint(\"Список:\", result)",
      "metadata": {},
      "execution_count": null,
      "outputs": [],
      "id": "d241bb08-c6ec-4bf4-8658-7ef489370cfe"
    },
    {
      "cell_type": "code",
      "source": "#8)Дивный новый мир:\n#Заданы две заранее неизвестные строки в которых слова разделены пробелами. Из двух строк составить одну, в котрой слова из первой и \n#второй строки будут чередоваться при этом порядок слов будет сохранен. Для преобразований использовать списки слов.\n#Пример: 'один два три', 'альфа бетта гамма' -> 'один альфа два бетта три гамма'\n\na1 = input(\"Введите первую строку: \").split()\na2 = input(\"Введите вторую строку: \").split()\nu = 1\nfor i in a2:\n        a1.insert(u, i)\n        u += 2\nprint(\" \".join(a1))",
      "metadata": {},
      "execution_count": null,
      "outputs": [],
      "id": "808ac59a-c2d9-40da-b968-7b8e73a552ad"
    },
    {
      "cell_type": "code",
      "source": "#9) Решить здачу 8 используя функцию zip.\n\na1 = input(\"Введите первую строку: \").split()\na2 = input(\"Введите вторую строку: \").split()\ns = zip(a1, a2)\nprint(list(s))",
      "metadata": {},
      "execution_count": null,
      "outputs": [],
      "id": "9b77e536-b5c0-47d4-905f-8c780e8023e2"
    },
    {
      "cell_type": "code",
      "source": "#10) Выполнить циклический сдвиг слов в произвольной строке (слова разделены пробелами) на заднное пользователем число слов. \n#Решить с помощью списков слов. Пример \"один два три четыре пять шесть семь\", 3 -> \"четыре пять шесть семь один два три\"\n\na = input(\"Введите строку: \").split()\nb = int(input(\"Введите число, на которое хотите сдвинуть строку: \"))\nprint(\" \".join(a[b:]+a[:b]))",
      "metadata": {},
      "execution_count": null,
      "outputs": [],
      "id": "0c483631-58bb-4ef7-ac12-a54402c10a7b"
    },
    {
      "cell_type": "code",
      "source": "#11) В списке целых чисел из диапозона от 1 до 20 заменить все числа не являющиеся простыми на составляющие их простые множители\n#(которые включаются в виде отдельных элементов списка на место исключаемого числа). Каратные простые множетели добавлять количество раз \n#составляющее их кратность в исходном числе. Пример: [3, 6, 7, 12] -> [3, 2, 3, 7, 2, 2, 3]\n\n\na = int(input(\"Количество чисел в списке: \"))\ns = []\nfor _ in range(a):\n    j = int(input(\"Введите число от 1 до 20: \"))\n    s.append(j)\nl = []\nfor i in s:\n    h = 0\n    for t in range(2, i):\n        if i % t == 0:\n            h += 1\n            l.append(t)\n    if h == 0:\n        l.append(i)\nprint(l)            ",
      "metadata": {},
      "execution_count": null,
      "outputs": [],
      "id": "3fb3f105-e640-48ef-a397-40f111035caa"
    },
    {
      "cell_type": "code",
      "source": "#12) В списке, состоящем из чисел найти значение меньше или равно которому только одно значения из списка.\n\nlst = [3, 1, 7, 4, 5, 5, 8]\nunique_vals = {x:lst.count(x) for x in lst}\nval = [k for k,v in unique_vals.items() if v==1][-1]\n\nprint(val)",
      "metadata": {},
      "execution_count": null,
      "outputs": [],
      "id": "fbcea378-b2d0-416a-9fd5-021f3f59ba6b"
    },
    {
      "cell_type": "code",
      "source": "#13) Найти индекс в списке для значения, найденного в задаче 12\nlst = [3, 1, 7, 4, 5, 5, 8]\nunique_vals = {x:lst.count(x) for x in lst}\nval = [k for k,v in unique_vals.items() if v==1][-1]\nprint(lst.index(val))",
      "metadata": {},
      "execution_count": null,
      "outputs": [],
      "id": "662de4bb-d4dd-4c02-b0de-fb859afd668f"
    },
    {
      "cell_type": "code",
      "source": "#14) Найти индекс второго с конца вхождения значения 1 в список из целых чисел\n\nlst_nums = [0, 1, 2, 1, 3, 4, 1, 5]\nindex_second_last_one = len(lst_nums) - 1 - lst_nums[::-1].index(1) - lst_nums[::-1][lst_nums[::-1].index(1)+1:].index(1)\nprint(index_second_last_one)\n     ",
      "metadata": {},
      "execution_count": null,
      "outputs": [],
      "id": "8127c6fb-5edf-409a-9091-7642d0bbb618"
    },
    {
      "cell_type": "code",
      "source": "#15) Реализовать функцию умножения двух матриц, записанных как список списков. Проверить на умножении матрицы на единичную матрицу.\n\ndef matrix_multiply(A, B):\n    result = [[0 for _ in range(len(B[0]))] for _ in range(len(A))]\n    for i in range(len(A)):\n        for j in range(len(B[0])):\n            for k in range(len(B)):\n                result[i][j] += A[i][k] * B[k][j]\n    return result\n\nmatrix = [[1,2], [3,4]]\nidentity_matrix = [[1,0], [0,1]]\nprint(matrix_multiply(matrix, identity_matrix))\n     ",
      "metadata": {},
      "execution_count": null,
      "outputs": [],
      "id": "8010405d-b21f-4de6-a082-39d57b13e97d"
    },
    {
      "cell_type": "code",
      "source": "#16) Создать копию матрицы, записанной в виде вложенных списков, так что при изменении элементов исходной матрицы, скопированная матрица\n#меняться не будет.\n\nimport copy\noriginal_matrix = [[1, 2], [3, 4]]\ncopied_matrix = copy.deepcopy(original_matrix)",
      "metadata": {},
      "execution_count": null,
      "outputs": [],
      "id": "bb4f64c7-6634-48ee-bc56-3d07e337d558"
    },
    {
      "cell_type": "code",
      "source": "#17) Осортировать слова в строке (с пробелом в качестве разделителя) в лексикографическом порядке.\n#Пример: 'дыня абрикос яблоко арбуз' -> 'абрикос арбуз дыня яблоко'\n\nstring = 'дыня абрикос яблоко арбуз'\nsorted_string = ' '.join(sorted(string.split()))\nprint(sorted_string)",
      "metadata": {},
      "execution_count": null,
      "outputs": [],
      "id": "790e297d-4cdf-4b3d-89c0-634e5e4bf0e1"
    },
    {
      "cell_type": "code",
      "source": "#18) Имеется переменная lsls содержащая список списков. Заранее неизвестно, сколько в переменной списков и какой они длинны \n#(их длинны в общем случае различны). Из этих списков составить список, содержащий поорчедно элементы каждого из вложенных списков, при этом, \n#порядок этих элементов сохраняется. Процедура создания списка останавливается когда хотя бы в одном из исходных вложенных списков будут использованные все элементы.\n#Кроме составленного списка получить список из всех элементов не вошедших в составленный список.\n#Пример: lsls=[[1,2,3],['a', 'b'], [30, 40, 50, 60]] -> [1, 'a', 30, 2, 'b', 40], [3, 50, 60]\n\nlsls = [[1,2,3],['a', 'b'], [30, 40, 50, 60]]\nmin_length = min([len(l) for l in lsls])\nresult = []\nleftovers = []\n\nfor i in range(min_length):\n    for l in lsls:\n        result.append(l[i])\n\nfor l in lsls:\n    leftovers.extend(l[min_length:])\n\nprint(result, leftovers)",
      "metadata": {},
      "execution_count": null,
      "outputs": [],
      "id": "febe3e55-3853-4868-bea1-6ae373047df7"
    }
  ]
}
