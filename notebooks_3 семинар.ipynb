{
  "metadata": {
    "language_info": {
      "name": ""
    },
    "kernelspec": {
      "name": "python",
      "display_name": "Python (Pyodide)",
      "language": "python"
    }
  },
  "nbformat_minor": 4,
  "nbformat": 4,
  "cells": [
    {
      "cell_type": "raw",
      "source": "#3 СЕМИНАР\n#1.2) Проверить выполнение следующих логических тождеств (законов де Моргана) для всех значений А и В (FF, FT, TF, TT):\n#a = True, b = True, res1 = True, res2 = True\n#a = True, b = False, res1 = True, res2 = True\n#a = False, b = True, res1 = True, res2 = True\n#a = False, b = False, res1 = True, res2 = True\n \na = input(\"a: \")\nb = input(\"b: \")\nif a in \"True\":\n    a = 1\nelse: \n    a = 0\nif b in \"True\":\n    b = 1\nelse:\n    b = 0\nif not(a and b) == (not a) or (not b):\n    res1 = True\nelse:\n    res1 = False\nif not(a or b) == (not a ) and (not b):\n    res2 = True\nelse:\n    res2 = False\nprint(res1, res2)",
      "metadata": {}
    },
    {
      "cell_type": "code",
      "source": "#2) Записать систему неравенств в одну строку БЕЗ использования and, or, True, False (разрешаются только операции сравнения):\n#x^2 > 6 - x\n#x > 0\n#Проверить на x = -5 (False), 3 (True), 1 (False), 0 (False):\n\nx = int(input(\"x: \"))\nif x ** 2 > 6 - x and x > 0:\n    print(True)\nelse:\n    print(False)",
      "metadata": {},
      "execution_count": null,
      "outputs": []
    },
    {
      "cell_type": "code",
      "source": "#3) Записать все следующие условия в одну цепочку неравенств (без использования логических операторов):\n#0 <= a <= c\n#0 <= b < c\n#b == 2\n#0 <= c < 5\n\na = int(input(\"a: \"))\nb = int(input(\"b: \"))\nc = int(input(\"c: \"))\nif 0 <= a <= c and 0 <= b < c and b == 2 and 0 <= c <5:\n    print(True)\nelse:\n    print(False)",
      "metadata": {
        "trusted": true
      },
      "execution_count": null,
      "outputs": []
    },
    {
      "cell_type": "code",
      "source": "#3.2) Запросить пользователя ввести две строки. Проверить, что первая строка длиннее второй, но при этом находится ближе в лексикографическом порядке. Подобрать пару строк, удовлетворяющую условию\n\na = input(\"Введите первую строку: \")\nb = input(\"Введите вторую строку: \")\nif len(a) > len(b) and a < b:\n    print(\"Удовлетворяет\")\nelse:\n    print(\"Не удовлетворяет\")",
      "metadata": {},
      "execution_count": null,
      "outputs": []
    },
    {
      "cell_type": "code",
      "source": "#4) Записать перечисленные строки в порядке возрастания. Для проверки воспользуйтесь цепочкой из последовательных сравнений (s1 < s2 < s3 < ...), которая должна возвращать True:\n#s1 = 'string'\n#s2 = 'String'\n#s3 = 'strinG'\n#s4 = 'stringlong'\n#s5 = ' string'\n#s6 = 'string '\n#s7 = '_string'\n\ns1 = 'string'\ns2 = 'String'\ns3 = 'strinG'\ns4 = 'stringlong'\ns5 = ' string'\ns6 = 'string '\ns7 = '_string'\n\nif s7 < s5 and s5 < s6 and s6 < s3 and s3 < s2 and s2 < s1 and s1 < s4:\n    print(\"Строки упорядочены в порядке возрастания.\")\nelse:\n    print(\"Строки не упорядочены в порядке возрастания.\")\n",
      "metadata": {},
      "execution_count": null,
      "outputs": []
    },
    {
      "cell_type": "code",
      "source": "#5) Если в произвольной входной строке встречается \"!!!\", выводить на печать \"exclaim\". При этом если строка начинается с \"!!!\", вместо этого выводить \"Nota bene: \" и исходную строку без восклицательных знаков. Если встречается \"???\", то выводить \"question\". Если встречаются оба (\"!!!\" и \"???\"), то ничего не выводить. В других случаях выводить \"random\".\n\ninput_string = input(\"Введите строку: \")\nif \"!!!\" in input_string and \"???\" in input_string:\n    pass  # Если встречаются оба (\"!!!\" и \"???\"), то ничего не делаем\nelif input_string.startswith(\"!!!\"):\n    print(\"Nota bene:\", input_string[3:])  # Если строка начинается с \"!!!\", выводим \"Nota bene:\" и оставшуюся часть строки без восклицательных знаков\nelif \"!!!\" in input_string:\n    print(\"exclaim\")  # Если встречается \"!!!\", выводим \"exclaim\"\nelif \"???\" in input_string:\n    print(\"question\")  # Если встречается \"???\", выводим \"question\"\nelse:\n    print(\"random\")  # В других случаях выводим \"random\"\n\n",
      "metadata": {},
      "execution_count": null,
      "outputs": []
    },
    {
      "cell_type": "code",
      "source": "#6) В задании 1 добавить проверку на длину входной строки. Если длина строки больше 5, выполнять инструкцию из задания 1. В противном случае выводить исходную строку три раза подряд через дефис, если количество символов нечетное.\n\ns1 = input('Введите первую строку:')\na = input('Введите целое число:')\ns2 = input('Введите вторую строку:')\nif len(s1) > 5 and len(s2) > 5 and len(a) > 5:\n    if s1 and not a - 5 and not s2:\n       print('Правильный ответ')\n    else:\n       print('Ответ неправильный, попробуйте еще раз.')\nelif len(s1) % 2 != 0 and len(s2) % 2 != 0 and len(a) % 2 != 0:\n    print(s1 + \"-\" + s1 + \"-\" + s1, s2 + \"-\" + s2 + \"-\" + s2, a + \"-\" + a + \"-\" + a, sep = \"\\n\")",
      "metadata": {},
      "execution_count": null,
      "outputs": []
    },
    {
      "cell_type": "code",
      "source": "#7) Протестировать инструкцию: x = a if condition else b на примере: в переменную friend записать x, если в x встречается слово \"banana\", в ином случае записать в нее y.\n#Пример: при x = \"banana monkey\", y = \"orangutan\" значение переменной friend должно быть равно \"banana monkey\".\n\nx = \"banana monkey\"\ny = \"orangutan\"\nfriend = x if \"banana\" in x else y\nprint(friend)  ",
      "metadata": {},
      "execution_count": null,
      "outputs": []
    }
  ]
}