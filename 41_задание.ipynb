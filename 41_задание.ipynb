{
 "cells": [
  {
   "cell_type": "markdown",
   "id": "82101eaa",
   "metadata": {},
   "source": [
    "11. \n",
    "а) Создать класс «Продукт» с полями «Название», «Цена», «Количество» и «Срок годности». Создать хеш-таблицу для хранения объектов класса «Продукт» по ключу — названию продукта."
   ]
  },
  {
   "cell_type": "code",
   "execution_count": 1,
   "id": "c2325cbd",
   "metadata": {},
   "outputs": [],
   "source": [
    "class Product: #создать класс Продукт с данными атрибутами(название, цена, количество, срок годности)\n",
    "    def __init__(self, name, price, quantity, expiration_date):\n",
    "        self.name = name\n",
    "        self.price = price\n",
    "        self.quantity = quantity\n",
    "        self.expiration_date = expiration_date\n",
    "\n",
    "    def __repr__(self):\n",
    "        return f\"Product(name={self.name}, price={self.price}, quantity={self.quantity}, expiration_date={self.expiration_date})\""
   ]
  },
  {
   "cell_type": "code",
   "execution_count": 3,
   "id": "a36c621f",
   "metadata": {},
   "outputs": [],
   "source": [
    "products = {} #создадим хеш-таблицу для хранения объектов класса Product по ключу — названию продукта. Для простоты используем словарь Python как хеш-таблицу:"
   ]
  },
  {
   "cell_type": "code",
   "execution_count": 4,
   "id": "3cb31b17",
   "metadata": {},
   "outputs": [],
   "source": [
    "product1 = Product(\"Хлеб\", 199, 1023, \"2024-12-31\")\n",
    "product2 = Product(\"Шоколад\", 68, 1130, \"2024-11-30\")\n",
    "product3 = Product(\"Хлеб\", 72, 1540, \"2024-05-30\")\n",
    "\n",
    "# Добавляем продукты в хеш-таблицу\n",
    "products[product1.name] = product1\n",
    "products[product2.name] = product2\n",
    "products[product3.name] = product3"
   ]
  },
  {
   "cell_type": "markdown",
   "id": "f8b19c22",
   "metadata": {},
   "source": [
    "б) Написать функцию для нахождения наиболее часто встречающегося ключа в хеш-таблице.<br>"
   ]
  },
  {
   "cell_type": "code",
   "execution_count": 5,
   "id": "475bbc45",
   "metadata": {},
   "outputs": [
    {
     "name": "stdout",
     "output_type": "stream",
     "text": [
      "Хлеб\n"
     ]
    }
   ],
   "source": [
    "from collections import Counter\n",
    "\n",
    "def find_most_frequent_key(hash_table): #передаем в функцию хеш-таблицу\n",
    "    keys = list(hash_table.keys()) #создаю список из ее ключей те названий продуктов\n",
    "    counter = Counter(keys) #создает словарь где ключ-продукт а значение-его количество\n",
    "    most_common_key = counter.most_common(1)[0][0] #сохраняю значение которое хранит продукт с наибольшим количеством  появления\n",
    "    return most_common_key\n",
    "\n",
    "print(find_most_frequent_key(products))"
   ]
  },
  {
   "cell_type": "markdown",
   "id": "2e7462eb",
   "metadata": {},
   "source": []
  }
 ],
 "metadata": {
  "kernelspec": {
   "display_name": "Python 3 (ipykernel)",
   "language": "python",
   "name": "python3"
  },
  "language_info": {
   "codemirror_mode": {
    "name": "ipython",
    "version": 3
   },
   "file_extension": ".py",
   "mimetype": "text/x-python",
   "name": "python",
   "nbconvert_exporter": "python",
   "pygments_lexer": "ipython3",
   "version": "3.11.4"
  }
 },
 "nbformat": 4,
 "nbformat_minor": 5
}
